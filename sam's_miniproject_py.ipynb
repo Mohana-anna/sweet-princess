{
  "nbformat": 4,
  "nbformat_minor": 0,
  "metadata": {
    "colab": {
      "provenance": [],
      "authorship_tag": "ABX9TyObq7IkPJBuHIvJeWe002I3",
      "include_colab_link": true
    },
    "kernelspec": {
      "name": "python3",
      "display_name": "Python 3"
    },
    "language_info": {
      "name": "python"
    }
  },
  "cells": [
    {
      "cell_type": "markdown",
      "metadata": {
        "id": "view-in-github",
        "colab_type": "text"
      },
      "source": [
        "<a href=\"https://colab.research.google.com/github/Mohana-anna/sweet-princess/blob/main/sam's_miniproject_py.ipynb\" target=\"_parent\"><img src=\"https://colab.research.google.com/assets/colab-badge.svg\" alt=\"Open In Colab\"/></a>"
      ]
    },
    {
      "cell_type": "code",
      "source": [
        "input_data = \"\"\"\n",
        "90\n",
        "8\n",
        "read\n",
        "credit 10\n",
        "debit 12\n",
        "debit 8\n",
        "credit 7\n",
        "abort 1\n",
        "commit\n",
        "read\n",
        "\"\"\".strip().split('\\n')\n",
        "\n",
        "initial_balance = int(input_data[0])\n",
        "N = int(input_data[1])\n",
        "operations = input_data[2:]\n",
        "\n",
        "balance = initial_balance\n",
        "transactions = []\n",
        "commits = []\n",
        "\n",
        "for operation in operations:\n",
        "    if operation == 'read':\n",
        "        print(balance)\n",
        "    elif operation.startswith('credit'):\n",
        "        amount = int(operation.split()[1])\n",
        "        balance += amount\n",
        "        transactions.append(('credit', amount))\n",
        "    elif operation.startswith('debit'):\n",
        "        amount = int(operation.split()[1])\n",
        "        balance -= amount\n",
        "        transactions.append(('debit', amount))\n",
        "    elif operation.startswith('abort'):\n",
        "        x = int(operation.split()[1])\n",
        "        if x <= len(transactions):\n",
        "            last_transaction = transactions.pop(x-1)\n",
        "            if last_transaction[0] == 'credit':\n",
        "                balance -= last_transaction[1]\n",
        "            elif last_transaction[0] == 'debit':\n",
        "                balance += last_transaction[1]\n",
        "    elif operation == 'commit':\n",
        "        commits.append(balance)\n",
        "        transactions = []  # Clear transactions after commit\n",
        "    elif operation.startswith('rollback'):\n",
        "        x = int(operation.split()[1])\n",
        "        if x <= len(commits):\n",
        "            balance = commits[x-1]\n",
        "\n",
        "\n"
      ],
      "metadata": {
        "id": "wSTc4Ywi7PsG",
        "outputId": "2ac706a5-82e9-4c86-c9d5-c3ee937656f2",
        "colab": {
          "base_uri": "https://localhost:8080/"
        }
      },
      "execution_count": null,
      "outputs": [
        {
          "output_type": "stream",
          "name": "stdout",
          "text": [
            "90\n",
            "77\n"
          ]
        }
      ]
    }
  ]
}